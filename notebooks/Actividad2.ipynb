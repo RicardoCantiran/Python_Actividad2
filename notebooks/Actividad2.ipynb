{
 "cells": [
  {
   "cell_type": "raw",
   "id": "8653fe8a-0559-4517-a526-2ff126fc42fb",
   "metadata": {},
   "source": [
    "Ejercicio 10\n"
   ]
  },
  {
   "cell_type": "code",
   "execution_count": 31,
   "id": "d923f557-efd8-42f3-85ef-b6befa98eb5b",
   "metadata": {},
   "outputs": [],
   "source": [
    "import sys\n",
    "import os\n",
    "\n",
    "sys.path.append(os.path.abspath(\"../src\"))\n",
    "\n",
    "from Fuciones import ejercicio10"
   ]
  },
  {
   "cell_type": "code",
   "execution_count": 32,
   "id": "0fdd29a8-78f4-4232-b3e1-26d4ae375589",
   "metadata": {},
   "outputs": [],
   "source": [
    "rounds = [\n",
    "{\n",
    "'Shadow': {'kills': 2, 'assists': 1, 'deaths': True},\n",
    "'Blaze': {'kills': 1, 'assists': 0, 'deaths': False},\n",
    "'Viper': {'kills': 1, 'assists': 2, 'deaths': True},\n",
    "'Frost': {'kills': 0, 'assists': 1, 'deaths': False},\n",
    "'Reaper': {'kills': 1, 'assists': 1, 'deaths': False}\n",
    "},\n",
    "{\n",
    "'Shadow': {'kills': 0, 'assists': 2, 'deaths': False},\n",
    "'Blaze': {'kills': 2, 'assists': 0, 'deaths': True},\n",
    "'Viper': {'kills': 1, 'assists': 1, 'deaths': False},\n",
    "'Frost': {'kills': 2, 'assists': 1, 'deaths': True},\n",
    "'Reaper': {'kills': 0, 'assists': 1, 'deaths': False}\n",
    "},\n",
    "{\n",
    "'Shadow': {'kills': 1, 'assists': 0, 'deaths': False},\n",
    "'Blaze': {'kills': 2, 'assists': 2, 'deaths': True},\n",
    "'Viper': {'kills': 1, 'assists': 1, 'deaths': True},\n",
    "'Frost': {'kills': 0, 'assists': 1, 'deaths': False},\n",
    "'Reaper': {'kills': 1, 'assists': 1, 'deaths': False}\n",
    "},\n",
    "{\n",
    "'Shadow': {'kills': 2, 'assists': 1, 'deaths': False},\n",
    "'Blaze': {'kills': 1, 'assists': 0, 'deaths': True},\n",
    "'Viper': {'kills': 0, 'assists': 2, 'deaths': False},\n",
    "'Frost': {'kills': 1, 'assists': 1, 'deaths': True},\n",
    "'Reaper': {'kills': 1, 'assists': 1, 'deaths': False}\n",
    "},\n",
    "{\n",
    "'Shadow': {'kills': 1, 'assists': 2, 'deaths': True},\n",
    "'Blaze': {'kills': 0, 'assists': 1, 'deaths': False},\n",
    "'Viper': {'kills': 2, 'assists': 0, 'deaths': True},\n",
    "'Frost': {'kills': 1, 'assists': 1, 'deaths': False},\n",
    "'Reaper': {'kills': 1, 'assists': 1, 'deaths': True}\n",
    "}\n",
    "]"
   ]
  },
  {
   "cell_type": "code",
   "execution_count": 33,
   "id": "4a1af3d6-7beb-49df-8e23-fc0ada983fbf",
   "metadata": {},
   "outputs": [
    {
     "name": "stdout",
     "output_type": "stream",
     "text": [
      "Ronda numero: 2\n",
      "Jugador         Kills    Asists     Muertes   MVPs    Puntos\n",
      "-----------------------------------------------------------------\n",
      "Shadow          2        1          1         si      6     \n",
      "Viper           1        2          1         no      4     \n",
      "Reaper          1        1          0         no      4     \n",
      "Blaze           1        0          0         no      3     \n",
      "Frost           0        1          0         no      1     \n",
      "-----------------------------------------------------------------\n",
      "Ronda numero: 3\n",
      "Jugador         Kills    Asists     Muertes   MVPs    Puntos\n",
      "-----------------------------------------------------------------\n",
      "Frost           2        1          1         si      6     \n",
      "Blaze           2        0          1         no      5     \n",
      "Viper           1        1          0         no      4     \n",
      "Shadow          0        2          0         no      2     \n",
      "Reaper          0        1          0         no      1     \n",
      "-----------------------------------------------------------------\n",
      "Ronda numero: 4\n",
      "Jugador         Kills    Asists     Muertes   MVPs    Puntos\n",
      "-----------------------------------------------------------------\n",
      "Blaze           2        2          1         si      7     \n",
      "Reaper          1        1          0         no      4     \n",
      "Shadow          1        0          0         no      3     \n",
      "Viper           1        1          1         no      3     \n",
      "Frost           0        1          0         no      1     \n",
      "-----------------------------------------------------------------\n",
      "Ronda final\n",
      "Jugador         Kills    Asists     Muertes   MVPs    Puntos\n",
      "-----------------------------------------------------------------\n",
      "Shadow          2        1          0         si      7     \n",
      "Reaper          1        1          0         no      4     \n",
      "Frost           1        1          1         no      3     \n",
      "Blaze           1        0          1         no      2     \n",
      "Viper           0        2          0         no      2     \n",
      "-----------------------------------------------------------------\n",
      "Ronda final\n",
      "Jugador         Kills    Asists     Muertes   MVPs    Puntos\n",
      "-----------------------------------------------------------------\n",
      "Viper           2        0          1         si      5     \n",
      "Shadow          1        2          1         no      4     \n",
      "Frost           1        1          0         no      4     \n",
      "Reaper          1        1          1         no      3     \n",
      "Blaze           0        1          0         no      1     \n",
      "-----------------------------------------------------------------\n",
      "Ronda final\n",
      "Jugador         Kills    Asists     Muertes   MVPs    Puntos\n",
      "-----------------------------------------------------------------\n",
      "Shadow          6        6          2         2       22    \n",
      "Blaze           6        3          3         1       18    \n",
      "Viper           5        6          3         1       18    \n",
      "Reaper          4        5          1         0       16    \n",
      "Frost           4        5          2         1       15    \n",
      "-----------------------------------------------------------------\n"
     ]
    }
   ],
   "source": [
    "\n",
    "ejercicio10(rounds)"
   ]
  },
  {
   "cell_type": "code",
   "execution_count": null,
   "id": "ed088d4f-b8c9-4e4d-9f48-23397aa29cf1",
   "metadata": {},
   "outputs": [],
   "source": []
  }
 ],
 "metadata": {
  "kernelspec": {
   "display_name": "Python 3 (ipykernel)",
   "language": "python",
   "name": "python3"
  },
  "language_info": {
   "codemirror_mode": {
    "name": "ipython",
    "version": 3
   },
   "file_extension": ".py",
   "mimetype": "text/x-python",
   "name": "python",
   "nbconvert_exporter": "python",
   "pygments_lexer": "ipython3",
   "version": "3.12.9"
  }
 },
 "nbformat": 4,
 "nbformat_minor": 5
}
