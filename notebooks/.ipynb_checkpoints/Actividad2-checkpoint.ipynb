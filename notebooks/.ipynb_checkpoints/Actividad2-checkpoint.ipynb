{
 "cells": [
  {
   "cell_type": "raw",
   "id": "8653fe8a-0559-4517-a526-2ff126fc42fb",
   "metadata": {},
   "source": [
    "Ejercicio 10\n"
   ]
  },
  {
   "cell_type": "code",
   "execution_count": null,
   "id": "0fdd29a8-78f4-4232-b3e1-26d4ae375589",
   "metadata": {},
   "outputs": [],
   "source": []
  }
 ],
 "metadata": {
  "kernelspec": {
   "display_name": "Python 3 (ipykernel)",
   "language": "python",
   "name": "python3"
  },
  "language_info": {
   "codemirror_mode": {
    "name": "ipython",
    "version": 3
   },
   "file_extension": ".py",
   "mimetype": "text/x-python",
   "name": "python",
   "nbconvert_exporter": "python",
   "pygments_lexer": "ipython3",
   "version": "3.12.9"
  }
 },
 "nbformat": 4,
 "nbformat_minor": 5
}
